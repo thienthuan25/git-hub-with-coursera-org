{
 "cells": [
  {
   "cell_type": "markdown",
   "id": "f46a9130-0a03-4b6e-b9c8-d77e6e87c163",
   "metadata": {},
   "source": [
    "# Data Science Tools and Ecosystem"
   ]
  },
  {
   "cell_type": "markdown",
   "id": "3ec3e736-0c24-4440-a8bf-380a60e95938",
   "metadata": {},
   "source": [
    "## In this notebook, Data Science Tools and Ecosystem are summarized."
   ]
  },
  {
   "cell_type": "markdown",
   "id": "d73ca702-9cc0-41d4-abc2-cde46c7b1a8e",
   "metadata": {
    "jp-MarkdownHeadingCollapsed": true
   },
   "source": [
    "### Some of the pupular languages that Data Scientists use are:\n",
    "1. Python\n",
    "2. R\n",
    "3. SQL\n",
    "4. Julia"
   ]
  },
  {
   "cell_type": "markdown",
   "id": "8bc9ac16-5255-4d1d-bbf0-5767a3b47fe0",
   "metadata": {},
   "source": [
    "### List popular languages for Data Science\n",
    "**Objectives of this Notebook**\n",
    "\n",
    "- Understand the basics of Python syntax and arithmetic operations.\n",
    "- Learn how to perform conversions between different units (e.g., minutes to hours).\n",
    "- Explore the use of comments to document code effectively.\n",
    "- Gain familiarity with executing code and evaluating expressions in a coding environment.\n",
    "- Recognize the importance of open-source tools in data science development environments.\n"
   ]
  },
  {
   "cell_type": "markdown",
   "id": "a4df9c3a-e063-4181-b65b-53392fbb0b94",
   "metadata": {},
   "source": [
    "### Some of the commonly used libraries used by Data Scientists include:\n",
    "1. NumPy\n",
    "2. Pandas\n",
    "3. Matplotlib\n",
    "4. Scikit-learn"
   ]
  },
  {
   "cell_type": "markdown",
   "id": "2b3ab143-7e97-466c-ae5a-3edfa00e47ac",
   "metadata": {},
   "source": [
    "### Data Science Tools\n",
    "|Open Source Tools|\n",
    "|-----------------|\n",
    "|Jupyter Notebook|\n",
    "|RStudio|\n",
    "|Apache Zeppelin|"
   ]
  },
  {
   "cell_type": "markdown",
   "id": "31a96d4e-3f1b-4616-9f02-c724f42dc309",
   "metadata": {},
   "source": [
    "### Below are a few examples of evaluating arithmetic expressions in Python"
   ]
  },
  {
   "cell_type": "code",
   "execution_count": 1,
   "id": "2b5fe2be-9fea-4cf4-a405-05f782d1e39f",
   "metadata": {},
   "outputs": [
    {
     "data": {
      "text/plain": [
       "35"
      ]
     },
     "execution_count": 1,
     "metadata": {},
     "output_type": "execute_result"
    }
   ],
   "source": [
    "# This a simple arithmetic expression to mutiply then add integers\n",
    "result = (3 * 5) + 20\n",
    "result"
   ]
  },
  {
   "cell_type": "code",
   "execution_count": 2,
   "id": "db58aa46-d1c0-43a0-8dbe-dcf5675afcba",
   "metadata": {},
   "outputs": [
    {
     "data": {
      "text/plain": [
       "3.3333333333333335"
      ]
     },
     "execution_count": 2,
     "metadata": {},
     "output_type": "execute_result"
    }
   ],
   "source": [
    "# This will convert 200 minutes to hours by diving by 60\n",
    "minutes = 200\n",
    "hours = minutes / 60\n",
    "hours"
   ]
  },
  {
   "cell_type": "markdown",
   "id": "4fc8b322-58b9-4f78-84bc-4e62dff7b53c",
   "metadata": {},
   "source": [
    "## Author\n",
    "Lakshmi Holla \\\n",
    "Niveditha Pandith\n"
   ]
  },
  {
   "cell_type": "code",
   "execution_count": null,
   "id": "917a851d-6114-4c36-9fbe-127b75f0ce63",
   "metadata": {},
   "outputs": [],
   "source": []
  }
 ],
 "metadata": {
  "kernelspec": {
   "display_name": "Python 3 (ipykernel)",
   "language": "python",
   "name": "python3"
  },
  "language_info": {
   "codemirror_mode": {
    "name": "ipython",
    "version": 3
   },
   "file_extension": ".py",
   "mimetype": "text/x-python",
   "name": "python",
   "nbconvert_exporter": "python",
   "pygments_lexer": "ipython3",
   "version": "3.10.12"
  }
 },
 "nbformat": 4,
 "nbformat_minor": 5
}
